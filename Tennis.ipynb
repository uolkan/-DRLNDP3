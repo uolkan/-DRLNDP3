{
 "cells": [
  {
   "cell_type": "markdown",
   "metadata": {},
   "source": [
    "# Collaboration and Competition\n",
    "\n",
    "---\n",
    "\n",
    "In this notebook, you will learn how to use the Unity ML-Agents environment for the third project of the [Deep Reinforcement Learning Nanodegree](https://www.udacity.com/course/deep-reinforcement-learning-nanodegree--nd893) program.\n",
    "\n",
    "### 1. Start the Environment\n",
    "\n",
    "We begin by importing the necessary packages.  If the code cell below returns an error, please revisit the project instructions to double-check that you have installed [Unity ML-Agents](https://github.com/Unity-Technologies/ml-agents/blob/master/docs/Installation.md) and [NumPy](http://www.numpy.org/)."
   ]
  },
  {
   "cell_type": "code",
   "execution_count": 1,
   "metadata": {},
   "outputs": [],
   "source": [
    "from unityagents import UnityEnvironment\n",
    "import numpy as np"
   ]
  },
  {
   "cell_type": "markdown",
   "metadata": {},
   "source": [
    "Next, we will start the environment!  **_Before running the code cell below_**, change the `file_name` parameter to match the location of the Unity environment that you downloaded.\n",
    "\n",
    "- **Mac**: `\"path/to/Tennis.app\"`\n",
    "- **Windows** (x86): `\"path/to/Tennis_Windows_x86/Tennis.exe\"`\n",
    "- **Windows** (x86_64): `\"path/to/Tennis_Windows_x86_64/Tennis.exe\"`\n",
    "- **Linux** (x86): `\"path/to/Tennis_Linux/Tennis.x86\"`\n",
    "- **Linux** (x86_64): `\"path/to/Tennis_Linux/Tennis.x86_64\"`\n",
    "- **Linux** (x86, headless): `\"path/to/Tennis_Linux_NoVis/Tennis.x86\"`\n",
    "- **Linux** (x86_64, headless): `\"path/to/Tennis_Linux_NoVis/Tennis.x86_64\"`\n",
    "\n",
    "For instance, if you are using a Mac, then you downloaded `Tennis.app`.  If this file is in the same folder as the notebook, then the line below should appear as follows:\n",
    "```\n",
    "env = UnityEnvironment(file_name=\"Tennis.app\")\n",
    "```"
   ]
  },
  {
   "cell_type": "code",
   "execution_count": 2,
   "metadata": {},
   "outputs": [
    {
     "name": "stderr",
     "output_type": "stream",
     "text": [
      "INFO:unityagents:\n",
      "'Academy' started successfully!\n",
      "Unity Academy name: Academy\n",
      "        Number of Brains: 1\n",
      "        Number of External Brains : 1\n",
      "        Lesson number : 0\n",
      "        Reset Parameters :\n",
      "\t\t\n",
      "Unity brain name: TennisBrain\n",
      "        Number of Visual Observations (per agent): 0\n",
      "        Vector Observation space type: continuous\n",
      "        Vector Observation space size (per agent): 8\n",
      "        Number of stacked Vector Observation: 3\n",
      "        Vector Action space type: continuous\n",
      "        Vector Action space size (per agent): 2\n",
      "        Vector Action descriptions: , \n"
     ]
    }
   ],
   "source": [
    "env = UnityEnvironment(file_name=\"Tennis.app\")"
   ]
  },
  {
   "cell_type": "markdown",
   "metadata": {},
   "source": [
    "Environments contain **_brains_** which are responsible for deciding the actions of their associated agents. Here we check for the first brain available, and set it as the default brain we will be controlling from Python."
   ]
  },
  {
   "cell_type": "code",
   "execution_count": 3,
   "metadata": {},
   "outputs": [],
   "source": [
    "# get the default brain\n",
    "brain_name = env.brain_names[0]\n",
    "brain = env.brains[brain_name]"
   ]
  },
  {
   "cell_type": "markdown",
   "metadata": {},
   "source": [
    "### 2. Examine the State and Action Spaces\n",
    "\n",
    "In this environment, two agents control rackets to bounce a ball over a net. If an agent hits the ball over the net, it receives a reward of +0.1.  If an agent lets a ball hit the ground or hits the ball out of bounds, it receives a reward of -0.01.  Thus, the goal of each agent is to keep the ball in play.\n",
    "\n",
    "The observation space consists of 8 variables corresponding to the position and velocity of the ball and racket. Two continuous actions are available, corresponding to movement toward (or away from) the net, and jumping. \n",
    "\n",
    "Run the code cell below to print some information about the environment."
   ]
  },
  {
   "cell_type": "code",
   "execution_count": 4,
   "metadata": {},
   "outputs": [
    {
     "name": "stdout",
     "output_type": "stream",
     "text": [
      "Number of agents: 2\n",
      "Size of each action: 2\n",
      "There are 2 agents. Each observes a state with length: 24\n",
      "The state for the first agent looks like: [ 0.          0.          0.          0.          0.          0.\n",
      "  0.          0.          0.          0.          0.          0.\n",
      "  0.          0.          0.          0.         -6.65278625 -1.5\n",
      " -0.          0.          6.83172083  6.         -0.          0.        ]\n"
     ]
    }
   ],
   "source": [
    "# reset the environment\n",
    "env_info = env.reset(train_mode=True)[brain_name]\n",
    "\n",
    "# number of agents \n",
    "num_agents = len(env_info.agents)\n",
    "print('Number of agents:', num_agents)\n",
    "\n",
    "# size of each action\n",
    "action_size = brain.vector_action_space_size\n",
    "print('Size of each action:', action_size)\n",
    "\n",
    "# examine the state space \n",
    "states = env_info.vector_observations\n",
    "state_size = states.shape[1]\n",
    "print('There are {} agents. Each observes a state with length: {}'.format(states.shape[0], state_size))\n",
    "print('The state for the first agent looks like:', states[0])"
   ]
  },
  {
   "cell_type": "markdown",
   "metadata": {},
   "source": [
    "### 3. Take Random Actions in the Environment\n",
    "\n",
    "In the next code cell, you will learn how to use the Python API to control the agents and receive feedback from the environment.\n",
    "\n",
    "Once this cell is executed, you will watch the agents' performance, if they select actions at random with each time step.  A window should pop up that allows you to observe the agents.\n",
    "\n",
    "Of course, as part of the project, you'll have to change the code so that the agents are able to use their experiences to gradually choose better actions when interacting with the environment!"
   ]
  },
  {
   "cell_type": "code",
   "execution_count": 5,
   "metadata": {
    "scrolled": true
   },
   "outputs": [
    {
     "name": "stdout",
     "output_type": "stream",
     "text": [
      "Score (max over agents) from episode 5: 0.0\n"
     ]
    }
   ],
   "source": [
    "for i in range(1, 6):                                      # play game for 5 episodes\n",
    "    env_info = env.reset(train_mode=False)[brain_name]     # reset the environment    \n",
    "    states = env_info.vector_observations                  # get the current state (for each agent)\n",
    "    scores = np.zeros(num_agents)                          # initialize the score (for each agent)\n",
    "    while True:\n",
    "        actions = np.random.randn(num_agents, action_size) # select an action (for each agent)\n",
    "        actions = np.clip(actions, -1, 1)                  # all actions between -1 and 1\n",
    "        env_info = env.step(actions)[brain_name]           # send all actions to tne environment\n",
    "        next_states = env_info.vector_observations         # get next state (for each agent)\n",
    "        rewards = env_info.rewards                         # get reward (for each agent)\n",
    "        dones = env_info.local_done                        # see if episode finished\n",
    "        scores += env_info.rewards                         # update the score (for each agent)\n",
    "        states = next_states                               # roll over states to next time step\n",
    "        if np.any(dones):                                  # exit loop if episode finished\n",
    "          break\n",
    "        \n",
    "print('Score (max over agents) from episode {}: {}'.format(i, np.max(scores)))"
   ]
  },
  {
   "cell_type": "code",
   "execution_count": 6,
   "metadata": {
    "scrolled": false
   },
   "outputs": [
    {
     "name": "stdout",
     "output_type": "stream",
     "text": [
      "[0.0, -0.009999999776482582]\n",
      "[ 0.   -0.01]\n",
      "[True, True]\n",
      "[[ 0.          0.          0.          0.          0.          0.\n",
      "   0.          0.          0.          0.          0.          0.\n",
      "   0.          0.          0.          0.         -6.14030886 -1.5\n",
      "  -0.          0.         -7.11741829  5.98822832 -0.          0.        ]\n",
      " [ 0.          0.          0.          0.          0.          0.\n",
      "   0.          0.          0.          0.          0.          0.\n",
      "   0.          0.          0.          0.         -7.9574213  -1.5\n",
      "   0.          0.          7.11741829  5.98822832  0.          0.        ]]\n",
      "[[ 0.          0.          0.          0.          0.          0.\n",
      "   0.          0.          0.          0.          0.          0.\n",
      "   0.          0.          0.          0.         -6.14030886 -1.5\n",
      "  -0.          0.         -7.11741829  5.98822832 -0.          0.        ]\n",
      " [ 0.          0.          0.          0.          0.          0.\n",
      "   0.          0.          0.          0.          0.          0.\n",
      "   0.          0.          0.          0.         -7.9574213  -1.5\n",
      "   0.          0.          7.11741829  5.98822832  0.          0.        ]]\n",
      "[[ 2.00904287  0.01982138]\n",
      " [ 0.49195535 -1.44274111]]\n",
      "[[ 1.          0.01982138]\n",
      " [ 0.49195535 -1.        ]]\n",
      "[0. 0.]\n"
     ]
    }
   ],
   "source": [
    "\n",
    "print (rewards)\n",
    "print (scores)\n",
    "print (dones)\n",
    "print (states)\n",
    "print (next_states)\n",
    "actions = np.random.randn(num_agents, action_size)\n",
    "print (actions)\n",
    "actions = np.clip(actions, -1, 1)\n",
    "print (actions)\n",
    "print (np.zeros(num_agents))\n"
   ]
  },
  {
   "cell_type": "markdown",
   "metadata": {},
   "source": [
    "When finished, you can close the environment."
   ]
  },
  {
   "cell_type": "code",
   "execution_count": 7,
   "metadata": {},
   "outputs": [],
   "source": [
    "# env.close()"
   ]
  },
  {
   "cell_type": "markdown",
   "metadata": {},
   "source": [
    "### 4. It's Your Turn!\n",
    "\n",
    "Now it's your turn to train your own agent to solve the environment!  When training the environment, set `train_mode=True`, so that the line for resetting the environment looks like the following:\n",
    "```python\n",
    "env_info = env.reset(train_mode=True)[brain_name]\n",
    "```"
   ]
  },
  {
   "cell_type": "markdown",
   "metadata": {},
   "source": [
    "## My solution with Multi Agent Deep Deterministic Policy Gradients (DDPG)¶"
   ]
  },
  {
   "cell_type": "markdown",
   "metadata": {},
   "source": [
    "## 1. Import the Necessary Packages"
   ]
  },
  {
   "cell_type": "code",
   "execution_count": 8,
   "metadata": {},
   "outputs": [],
   "source": [
    "from unityagents import UnityEnvironment\n",
    "import gym\n",
    "import random\n",
    "import torch\n",
    "import numpy as np\n",
    "from collections import deque\n",
    "import matplotlib.pyplot as plt\n",
    "%matplotlib inline\n",
    "\n",
    "from ddpg_agent import Agent"
   ]
  },
  {
   "cell_type": "markdown",
   "metadata": {},
   "source": [
    "## 2. Instantiate the Environment and Agent\n"
   ]
  },
  {
   "cell_type": "code",
   "execution_count": 9,
   "metadata": {},
   "outputs": [],
   "source": [
    "# reset the environment\n",
    "env_info = env.reset(train_mode=True)[brain_name]\n",
    "# get the default brain\n",
    "brain_name = env.brain_names[0]\n",
    "brain = env.brains[brain_name]\n",
    "# number of agents\n",
    "num_agents = len(env_info.agents)\n",
    "# size of each action\n",
    "action_size = brain.vector_action_space_size\n",
    "# examine the state space \n",
    "states = env_info.vector_observations\n",
    "state_size = states.shape[1]\n",
    "\n",
    "agent0 = Agent(state_size=24, action_size=2, random_seed=10)\n",
    "agent1 = Agent(state_size=24, action_size=2, random_seed=5)"
   ]
  },
  {
   "cell_type": "markdown",
   "metadata": {},
   "source": [
    "## 3. Train the Agent with DDPG"
   ]
  },
  {
   "cell_type": "code",
   "execution_count": 10,
   "metadata": {},
   "outputs": [
    {
     "name": "stdout",
     "output_type": "stream",
     "text": [
      "Episode 100\tAverage Score: 0.00Max(Scores):0.00\n",
      "Episode 200\tAverage Score: 0.00Max(Scores):0.00\n",
      "Episode 300\tAverage Score: 0.04Max(Scores):0.09\n",
      "Episode 400\tAverage Score: 0.04Max(Scores):0.19\n",
      "Episode 500\tAverage Score: 0.05Max(Scores):0.10\n",
      "Episode 600\tAverage Score: 0.08Max(Scores):0.30\n",
      "Episode 700\tAverage Score: 0.17Max(Scores):0.40\n",
      "Episode 800\tAverage Score: 0.15Max(Scores):0.80\n",
      "Episode 900\tAverage Score: 0.30Max(Scores):0.70\n",
      "Episode 1000\tAverage Score: 0.44Max(Scores):0.10\n",
      "Episode 1085\tAverage Score: 0.61Max(Scores):2.50\n",
      "Environment is solved!!!\n"
     ]
    },
    {
     "data": {
      "image/png": "[encoded data removed]",
      "text/plain": [
       "<Figure size 432x288 with 1 Axes>"
      ]
     },
     "metadata": {
      "needs_background": "light"
     },
     "output_type": "display_data"
    }
   ],
   "source": [
    "def ddpg(n_episodes=2000, max_t=2000):\n",
    "    scores_deque = deque(maxlen=100) \n",
    "    scoresboth = 0\n",
    "    scores2plot = []\n",
    "    for i_episode in range(1, n_episodes+1):\n",
    "        env_info = env.reset(train_mode=True)[brain_name]\n",
    "        states = env_info.vector_observations\n",
    "        state0 = env_info.vector_observations[0]\n",
    "        state1 = env_info.vector_observations[1]\n",
    "        agent0.reset()\n",
    "        agent1.reset()\n",
    "        scores = np.zeros(2)\n",
    "        for t in range(max_t):\n",
    "            action0 = agent0.act(state0)\n",
    "            action1 = agent1.act(state1)\n",
    "            actions = [action0,action1]\n",
    "            env_info = env.step(actions)[brain_name]           # send all actions to tne environment\n",
    "            next_states = env_info.vector_observations          # get next state (for each agent)\n",
    "            next_state0 = env_info.vector_observations[0] \n",
    "            next_state1 = env_info.vector_observations[1]        \n",
    "            reward0 = env_info.rewards[0]\n",
    "            reward1 = env_info.rewards[1]                          # get reward (for each agent)\n",
    "            dones = env_info.local_done\n",
    "            done0 = env_info.local_done[0]\n",
    "            done1 = env_info.local_done[1]                            # see if episode finished\n",
    "            agent0.step(state0, action0, reward0, next_state0, done0)\n",
    "            agent1.step(state1, action1, reward1, next_state1, done1)\n",
    "            scores += env_info.rewards    # update the score (for each agent)\n",
    "            states = next_states                               # roll over states to next time step\n",
    "            state0 = states[0]\n",
    "            state1 = states[1]\n",
    "            \n",
    "            if np.any(dones):\n",
    "                break \n",
    "        scoresboth = np.max(scores)        \n",
    "        scores_deque.append(scoresboth)\n",
    "        scores2plot.append(scoresboth)\n",
    "        \n",
    "        print('\\rEpisode {}\\tAverage Score:{:.2f}\\tMax(Scores):{:.2f}'.format(i_episode, np.mean(scores_deque), scoresboth), end=\"\")\n",
    "        \n",
    "        if i_episode % 100 == 0:\n",
    "            torch.save(agent0.actor_local.state_dict(), 'checkpoint_actor0.pth')\n",
    "            torch.save(agent0.critic_local.state_dict(), 'checkpoint_critic0.pth')\n",
    "            torch.save(agent1.actor_local.state_dict(), 'checkpoint_actor1.pth')\n",
    "            torch.save(agent1.critic_local.state_dict(), 'checkpoint_critic1.pth')\n",
    "            print('\\rEpisode {}\\tAverage Score: {:.2f}'.format(i_episode, np.mean(scores_deque),scoresboth))   \n",
    "        \n",
    "        if  np.mean(scores_deque) > 0.6 :\n",
    "            print('\\rEpisode {}\\tAverage Score: {:.2f}'.format(i_episode, np.mean(scores_deque)))\n",
    "            print (\"Environment is solved!!!\")\n",
    "            break\n",
    "        \n",
    "    return scores2plot\n",
    "\n",
    "scores2plot = ddpg()\n",
    "\n",
    "fig = plt.figure()\n",
    "ax = fig.add_subplot(111)\n",
    "plt.plot(np.arange(1, len(scores2plot)+1), scores2plot)\n",
    "plt.ylabel('Score Max of Both')\n",
    "plt.xlabel('Episode #')\n",
    "plt.show()"
   ]
  },
  {
   "cell_type": "markdown",
   "metadata": {},
   "source": [
    "## 4. Watch a Smart Agent!\n"
   ]
  },
  {
   "cell_type": "code",
   "execution_count": 12,
   "metadata": {},
   "outputs": [
    {
     "name": "stdout",
     "output_type": "stream",
     "text": [
      "Score of Agents: [1.50000002 1.49000002]\n",
      "Score of the Model: 1.5000000223517418\n",
      "Score of Agents: [1.49000002 1.59000002]\n",
      "Score of the Model: 1.5900000240653753\n",
      "Score of Agents: [1.58000002 1.69000003]\n",
      "Score of the Model: 1.6900000255554914\n"
     ]
    }
   ],
   "source": [
    "# load the weights from file\n",
    "agent0.actor_local.load_state_dict(torch.load('checkpoint_actor0.pth'))\n",
    "agent0.critic_local.load_state_dict(torch.load('checkpoint_critic0.pth'))\n",
    "agent1.actor_local.load_state_dict(torch.load('checkpoint_actor1.pth'))\n",
    "agent1.critic_local.load_state_dict(torch.load('checkpoint_critic1.pth'))\n",
    "scoresboth = 0\n",
    "scores = np.zeros(2)\n",
    "for i in range(3):\n",
    "    states = env_info.vector_observations                  # get the current state (for each agent                      # initialize the score (for each agent)\n",
    "    env_info = env.reset(train_mode=False)[brain_name] # reset the environment\n",
    "    states = env_info.vector_observations \n",
    "    for t in range(2000):\n",
    "        action0 = agent0.act(states[0])\n",
    "        action1 = agent1.act(states[1])\n",
    "        actions = [action0,action1]\n",
    "        env_info = env.step(actions)[brain_name] \n",
    "        next_states = env_info.vector_observations          # get next state (for each agent)\n",
    "        next_state0 = env_info.vector_observations[0] \n",
    "        next_state1 = env_info.vector_observations[1]        \n",
    "        dones = env_info.local_done # send the action to the environment\n",
    "        scores += env_info.rewards\n",
    "        scoresboth = np.max(scores) #  update the score (for each agent)\n",
    "        states = next_states                               # roll over states to next time step\n",
    "        state0 = states[0]\n",
    "        state1 = states[1]\n",
    "        if np.any(dones):\n",
    "            break \n",
    "    print(\"Score of Agents: {}\".format(scores))\n",
    "    \n",
    "    print(\"Score of the Model: {}\".format(scoresboth))\n",
    "    \n",
    "    "
   ]
  },
  {
   "cell_type": "code",
   "execution_count": null,
   "metadata": {},
   "outputs": [],
   "source": []
  },
  {
   "cell_type": "code",
   "execution_count": null,
   "metadata": {},
   "outputs": [],
   "source": []
  }
 ],
 "metadata": {
  "kernelspec": {
   "display_name": "Python 3",
   "language": "python",
   "name": "python3"
  },
  "language_info": {
   "codemirror_mode": {
    "name": "ipython",
    "version": 3
   },
   "file_extension": ".py",
   "mimetype": "text/x-python",
   "name": "python",
   "nbconvert_exporter": "python",
   "pygments_lexer": "ipython3",
   "version": "3.6.6"
  }
 },
 "nbformat": 4,
 "nbformat_minor": 2
}
